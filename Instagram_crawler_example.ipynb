{
 "cells": [
  {
   "cell_type": "markdown",
   "metadata": {},
   "source": [
    "# Crawling Instagram Biographies\n",
    "Harvesting data from instagram account and creating a dataset, Instagram decreased a lot number of http requests per hour that a user can do, due to the recent privacy issues, there is a maximum limit of 200 requests per hour"
   ]
  },
  {
   "cell_type": "code",
   "execution_count": 1,
   "metadata": {},
   "outputs": [
    {
     "name": "stdout",
     "output_type": "stream",
     "text": [
      "Fail to import moviepy. Need only for Video upload.\n"
     ]
    }
   ],
   "source": [
    "from InstagramAPI import InstagramAPI\n",
    "#login_info not provided for privacy issues\n",
    "from login_info import *\n",
    "import pandas as pd\n",
    "from time import sleep\n",
    "import datetime"
   ]
  },
  {
   "cell_type": "code",
   "execution_count": 2,
   "metadata": {},
   "outputs": [
    {
     "name": "stdout",
     "output_type": "stream",
     "text": [
      "Login success!\n",
      "\n",
      "True\n"
     ]
    }
   ],
   "source": [
    "api = auth()"
   ]
  },
  {
   "cell_type": "code",
   "execution_count": 3,
   "metadata": {},
   "outputs": [
    {
     "data": {
      "text/plain": [
       "True"
      ]
     },
     "execution_count": 3,
     "metadata": {},
     "output_type": "execute_result"
    }
   ],
   "source": [
    "api.getSelfUsersFollowing()"
   ]
  },
  {
   "cell_type": "code",
   "execution_count": 4,
   "metadata": {},
   "outputs": [],
   "source": [
    "followings = api.LastJson"
   ]
  },
  {
   "cell_type": "code",
   "execution_count": 43,
   "metadata": {},
   "outputs": [
    {
     "data": {
      "text/plain": [
       "{'pk': 15840274,\n",
       " 'username': 'allyyson.kim',\n",
       " 'full_name': 'Allyson ✨',\n",
       " 'is_private': True,\n",
       " 'profile_pic_url': 'https://scontent-ort2-2.cdninstagram.com/vp/71fd6d2a4817d477053aaed1311b1d3e/5C6FA151/t51.2885-19/s150x150/40015717_286923671908962_4085921763005825024_n.jpg',\n",
       " 'profile_pic_id': '1860661768449986066_15840274',\n",
       " 'is_verified': False,\n",
       " 'has_anonymous_profile_picture': False,\n",
       " 'reel_auto_archive': 'on',\n",
       " 'latest_reel_media': 1540482357,\n",
       " 'is_favorite': False}"
      ]
     },
     "execution_count": 43,
     "metadata": {},
     "output_type": "execute_result"
    }
   ],
   "source": [
    "followings['users'][9]"
   ]
  },
  {
   "cell_type": "code",
   "execution_count": 46,
   "metadata": {},
   "outputs": [],
   "source": [
    "api.getUsernameInfo(6330927406)\n",
    "info = api.LastJson"
   ]
  },
  {
   "cell_type": "code",
   "execution_count": 118,
   "metadata": {},
   "outputs": [],
   "source": [
    "#info"
   ]
  },
  {
   "cell_type": "code",
   "execution_count": 48,
   "metadata": {},
   "outputs": [],
   "source": [
    "bio = info['user']['biography']"
   ]
  },
  {
   "cell_type": "code",
   "execution_count": 49,
   "metadata": {},
   "outputs": [
    {
     "data": {
      "text/plain": [
       "''"
      ]
     },
     "execution_count": 49,
     "metadata": {},
     "output_type": "execute_result"
    }
   ],
   "source": [
    "bio"
   ]
  },
  {
   "cell_type": "code",
   "execution_count": 175,
   "metadata": {},
   "outputs": [],
   "source": [
    "for userpk in userspk:\n",
    "    api.getUserFollowings(userpk)\n",
    "    user_following = api.LastJson\n",
    "    tempdf = pd.DataFrame(user_following['users'])"
   ]
  },
  {
   "cell_type": "code",
   "execution_count": 177,
   "metadata": {},
   "outputs": [],
   "source": [
    "#user_following"
   ]
  },
  {
   "cell_type": "code",
   "execution_count": 10,
   "metadata": {},
   "outputs": [],
   "source": [
    "df = pd.DataFrame(followings['users'])"
   ]
  },
  {
   "cell_type": "code",
   "execution_count": 11,
   "metadata": {},
   "outputs": [
    {
     "data": {
      "text/html": [
       "<div>\n",
       "<style scoped>\n",
       "    .dataframe tbody tr th:only-of-type {\n",
       "        vertical-align: middle;\n",
       "    }\n",
       "\n",
       "    .dataframe tbody tr th {\n",
       "        vertical-align: top;\n",
       "    }\n",
       "\n",
       "    .dataframe thead th {\n",
       "        text-align: right;\n",
       "    }\n",
       "</style>\n",
       "<table border=\"1\" class=\"dataframe\">\n",
       "  <thead>\n",
       "    <tr style=\"text-align: right;\">\n",
       "      <th></th>\n",
       "      <th>full_name</th>\n",
       "      <th>has_anonymous_profile_picture</th>\n",
       "      <th>is_favorite</th>\n",
       "      <th>is_private</th>\n",
       "      <th>is_verified</th>\n",
       "      <th>latest_reel_media</th>\n",
       "      <th>pk</th>\n",
       "      <th>profile_pic_id</th>\n",
       "      <th>profile_pic_url</th>\n",
       "      <th>reel_auto_archive</th>\n",
       "      <th>username</th>\n",
       "    </tr>\n",
       "  </thead>\n",
       "  <tbody>\n",
       "    <tr>\n",
       "      <th>0</th>\n",
       "      <td>羅紫瑜</td>\n",
       "      <td>False</td>\n",
       "      <td>False</td>\n",
       "      <td>True</td>\n",
       "      <td>False</td>\n",
       "      <td>1.540509e+09</td>\n",
       "      <td>294650291</td>\n",
       "      <td>1827442943742290847_294650291</td>\n",
       "      <td>https://scontent-ort2-2.cdninstagram.com/vp/a7...</td>\n",
       "      <td>on</td>\n",
       "      <td>hahe1107</td>\n",
       "    </tr>\n",
       "    <tr>\n",
       "      <th>1</th>\n",
       "      <td></td>\n",
       "      <td>False</td>\n",
       "      <td>False</td>\n",
       "      <td>True</td>\n",
       "      <td>False</td>\n",
       "      <td>NaN</td>\n",
       "      <td>23081249</td>\n",
       "      <td>1880024273826010156_23081249</td>\n",
       "      <td>https://scontent-ort2-2.cdninstagram.com/vp/6a...</td>\n",
       "      <td>on</td>\n",
       "      <td>elizsmiz</td>\n",
       "    </tr>\n",
       "    <tr>\n",
       "      <th>2</th>\n",
       "      <td>Kateryna🦁</td>\n",
       "      <td>False</td>\n",
       "      <td>False</td>\n",
       "      <td>False</td>\n",
       "      <td>False</td>\n",
       "      <td>NaN</td>\n",
       "      <td>1558990616</td>\n",
       "      <td>1803959029605960132_1558990616</td>\n",
       "      <td>https://scontent-ort2-2.cdninstagram.com/vp/24...</td>\n",
       "      <td>on</td>\n",
       "      <td>katerynaaas</td>\n",
       "    </tr>\n",
       "    <tr>\n",
       "      <th>3</th>\n",
       "      <td>🎨Shannon Lewis🎼</td>\n",
       "      <td>False</td>\n",
       "      <td>False</td>\n",
       "      <td>False</td>\n",
       "      <td>False</td>\n",
       "      <td>NaN</td>\n",
       "      <td>182943270</td>\n",
       "      <td>1688167424070675642_182943270</td>\n",
       "      <td>https://scontent-ort2-2.cdninstagram.com/vp/c4...</td>\n",
       "      <td>on</td>\n",
       "      <td>shannon__lewis</td>\n",
       "    </tr>\n",
       "    <tr>\n",
       "      <th>4</th>\n",
       "      <td>liv🌞🌞🌞</td>\n",
       "      <td>False</td>\n",
       "      <td>False</td>\n",
       "      <td>False</td>\n",
       "      <td>False</td>\n",
       "      <td>NaN</td>\n",
       "      <td>194629919</td>\n",
       "      <td>1836533432344363087_194629919</td>\n",
       "      <td>https://scontent-ort2-2.cdninstagram.com/vp/66...</td>\n",
       "      <td>on</td>\n",
       "      <td>livfrye</td>\n",
       "    </tr>\n",
       "  </tbody>\n",
       "</table>\n",
       "</div>"
      ],
      "text/plain": [
       "         full_name  has_anonymous_profile_picture  is_favorite  is_private  \\\n",
       "0              羅紫瑜                          False        False        True   \n",
       "1                                           False        False        True   \n",
       "2        Kateryna🦁                          False        False       False   \n",
       "3  🎨Shannon Lewis🎼                          False        False       False   \n",
       "4           liv🌞🌞🌞                          False        False       False   \n",
       "\n",
       "   is_verified  latest_reel_media          pk                  profile_pic_id  \\\n",
       "0        False       1.540509e+09   294650291   1827442943742290847_294650291   \n",
       "1        False                NaN    23081249    1880024273826010156_23081249   \n",
       "2        False                NaN  1558990616  1803959029605960132_1558990616   \n",
       "3        False                NaN   182943270   1688167424070675642_182943270   \n",
       "4        False                NaN   194629919   1836533432344363087_194629919   \n",
       "\n",
       "                                     profile_pic_url reel_auto_archive  \\\n",
       "0  https://scontent-ort2-2.cdninstagram.com/vp/a7...                on   \n",
       "1  https://scontent-ort2-2.cdninstagram.com/vp/6a...                on   \n",
       "2  https://scontent-ort2-2.cdninstagram.com/vp/24...                on   \n",
       "3  https://scontent-ort2-2.cdninstagram.com/vp/c4...                on   \n",
       "4  https://scontent-ort2-2.cdninstagram.com/vp/66...                on   \n",
       "\n",
       "         username  \n",
       "0        hahe1107  \n",
       "1        elizsmiz  \n",
       "2     katerynaaas  \n",
       "3  shannon__lewis  \n",
       "4         livfrye  "
      ]
     },
     "execution_count": 11,
     "metadata": {},
     "output_type": "execute_result"
    }
   ],
   "source": [
    "df.head()"
   ]
  },
  {
   "cell_type": "code",
   "execution_count": 56,
   "metadata": {},
   "outputs": [],
   "source": [
    "# def extract_bio(user_pk):\n",
    "#     api.getUsernameInfo(user_pk)\n",
    "#     temp = api.LastJson['user']\n",
    "#     bio=temp['biography']\n",
    "#     if(len(bio)==0):\n",
    "#         print(\"-\")\n",
    "#         bio = 'none'\n",
    "#     else:\n",
    "#         print('ok')\n",
    "#     return bio"
   ]
  },
  {
   "cell_type": "code",
   "execution_count": 96,
   "metadata": {},
   "outputs": [],
   "source": [
    "#from time import sleep\n",
    "#def extract_bio_sleep(user_pk):\n",
    "#    sleep(2)\n",
    "#    api.getUsernameInfo(user_pk)\n",
    "#    temp = api.LastJson['user']\n",
    "#    bio=temp['biography']\n",
    "#    if(len(bio)==0):\n",
    "#        print(\"-\")\n",
    "#        bio = 'none'\n",
    "#    else:\n",
    "#        print('ok')\n",
    "#    return bio"
   ]
  },
  {
   "cell_type": "code",
   "execution_count": null,
   "metadata": {},
   "outputs": [],
   "source": [
    "def create_empty(user_pk):\n",
    "    return \"\"\n",
    "\n",
    "df['biography'] = df.pk.apply(create_empty)"
   ]
  },
  {
   "cell_type": "code",
   "execution_count": 174,
   "metadata": {},
   "outputs": [],
   "source": [
    "# save the dataset\n",
    "df.to_csv('input/myfollowings', index=False)"
   ]
  },
  {
   "cell_type": "markdown",
   "metadata": {},
   "source": [
    "## 20 random profiles followings"
   ]
  },
  {
   "cell_type": "code",
   "execution_count": 3,
   "metadata": {},
   "outputs": [],
   "source": [
    "userspk = [8538970820,4550727270,295336107,1359075101,27985392,1122362258,23081249,288804792,236134296,300582150,\n",
    "           2380119692,4610812401,214899198,232652088,4831050466,230965921,1477174194,392838699,5699575544,301517011]"
   ]
  },
  {
   "cell_type": "code",
   "execution_count": 4,
   "metadata": {},
   "outputs": [],
   "source": [
    "dataframes = []"
   ]
  },
  {
   "cell_type": "code",
   "execution_count": 5,
   "metadata": {},
   "outputs": [],
   "source": [
    "for userpk in userspk:\n",
    "    api.getUserFollowings(userpk)\n",
    "    user_following = api.LastJson\n",
    "    tempdf = pd.DataFrame(user_following['users'])\n",
    "    dataframes.append(tempdf)"
   ]
  },
  {
   "cell_type": "code",
   "execution_count": 6,
   "metadata": {},
   "outputs": [],
   "source": [
    "frames = [dataframes[i] for i in range(len(dataframes))]\n",
    "total_df = pd.concat(frames)"
   ]
  },
  {
   "cell_type": "code",
   "execution_count": 7,
   "metadata": {},
   "outputs": [],
   "source": [
    "total_df = total_df.drop(columns=['is_favorite','is_private','full_name','has_anonymous_profile_picture','is_verified',\n",
    "                                  'latest_reel_media','profile_pic_id','profile_pic_url','reel_auto_archive'])\n",
    "total_df = total_df.drop_duplicates()"
   ]
  },
  {
   "cell_type": "code",
   "execution_count": 8,
   "metadata": {},
   "outputs": [
    {
     "data": {
      "text/plain": [
       "(14763, 2)"
      ]
     },
     "execution_count": 8,
     "metadata": {},
     "output_type": "execute_result"
    }
   ],
   "source": [
    "total_df.shape"
   ]
  },
  {
   "cell_type": "code",
   "execution_count": 9,
   "metadata": {},
   "outputs": [
    {
     "data": {
      "text/html": [
       "<div>\n",
       "<style scoped>\n",
       "    .dataframe tbody tr th:only-of-type {\n",
       "        vertical-align: middle;\n",
       "    }\n",
       "\n",
       "    .dataframe tbody tr th {\n",
       "        vertical-align: top;\n",
       "    }\n",
       "\n",
       "    .dataframe thead th {\n",
       "        text-align: right;\n",
       "    }\n",
       "</style>\n",
       "<table border=\"1\" class=\"dataframe\">\n",
       "  <thead>\n",
       "    <tr style=\"text-align: right;\">\n",
       "      <th></th>\n",
       "      <th>pk</th>\n",
       "      <th>username</th>\n",
       "    </tr>\n",
       "  </thead>\n",
       "  <tbody>\n",
       "    <tr>\n",
       "      <th>0</th>\n",
       "      <td>295336107</td>\n",
       "      <td>mickey_lang14</td>\n",
       "    </tr>\n",
       "    <tr>\n",
       "      <th>1</th>\n",
       "      <td>229482521</td>\n",
       "      <td>mila042199</td>\n",
       "    </tr>\n",
       "    <tr>\n",
       "      <th>2</th>\n",
       "      <td>15840274</td>\n",
       "      <td>allyyson.kim</td>\n",
       "    </tr>\n",
       "    <tr>\n",
       "      <th>3</th>\n",
       "      <td>182123828</td>\n",
       "      <td>_babydarius</td>\n",
       "    </tr>\n",
       "    <tr>\n",
       "      <th>4</th>\n",
       "      <td>1140813478</td>\n",
       "      <td>miliccaal</td>\n",
       "    </tr>\n",
       "  </tbody>\n",
       "</table>\n",
       "</div>"
      ],
      "text/plain": [
       "           pk       username\n",
       "0   295336107  mickey_lang14\n",
       "1   229482521     mila042199\n",
       "2    15840274   allyyson.kim\n",
       "3   182123828    _babydarius\n",
       "4  1140813478      miliccaal"
      ]
     },
     "execution_count": 9,
     "metadata": {},
     "output_type": "execute_result"
    }
   ],
   "source": [
    "total_df.head()"
   ]
  },
  {
   "cell_type": "code",
   "execution_count": 13,
   "metadata": {},
   "outputs": [],
   "source": [
    "def create_empty(user_pk):\n",
    "    return \"\""
   ]
  },
  {
   "cell_type": "code",
   "execution_count": 14,
   "metadata": {},
   "outputs": [],
   "source": [
    "total_df['biography'] = total_df.pk.apply(create_empty)"
   ]
  },
  {
   "cell_type": "code",
   "execution_count": null,
   "metadata": {},
   "outputs": [],
   "source": [
    "start = 0\n",
    "count_until_sleep = 95\n",
    "\n",
    "sleep_at_count = start+count_until_sleep\n",
    "for i in range(start,total_df.shape[0]):\n",
    "    pk = total_df.iloc[i]['pk']\n",
    "    api.getUsernameInfo(pk)\n",
    "    temp = api.LastJson['user']\n",
    "    bio=temp['biography']\n",
    "    if(len(bio)==0):\n",
    "        bio = 'none'\n",
    "    total_df.loc[total_df['pk'] == pk, 'biography'] = bio\n",
    "    sleep(0.1)\n",
    "    if(i==sleep_at_count):\n",
    "        sleep_at_count +=count_until_sleep\n",
    "        print(total_df[i-1:i+1])\n",
    "        total_df.to_csv('input/temporary_instagram', index=False)\n",
    "        print(\"Stopping for 30 minutes at time:\")\n",
    "        print(datetime.datetime.now())\n",
    "        sleep(1800)\n",
    "        print(\"resuming at count \"+str(i)+\"at time:\")\n",
    "        print(datetime.datetime.now())"
   ]
  },
  {
   "cell_type": "code",
   "execution_count": 18,
   "metadata": {},
   "outputs": [],
   "source": [
    "# save the dataset\n",
    "df.to_csv('input/temporary_instagram', index=False)"
   ]
  }
 ],
 "metadata": {
  "kernelspec": {
   "display_name": "Python 3",
   "language": "python",
   "name": "python3"
  },
  "language_info": {
   "codemirror_mode": {
    "name": "ipython",
    "version": 3
   },
   "file_extension": ".py",
   "mimetype": "text/x-python",
   "name": "python",
   "nbconvert_exporter": "python",
   "pygments_lexer": "ipython3",
   "version": "3.6.5"
  }
 },
 "nbformat": 4,
 "nbformat_minor": 2
}
